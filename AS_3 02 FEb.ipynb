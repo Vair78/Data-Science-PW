{
 "cells": [
  {
   "cell_type": "markdown",
   "id": "7e39ad8e-b99b-4c09-ad60-3809837e0483",
   "metadata": {},
   "source": [
    "# Q1. What are the characteristics of the tuples? Is tuple immutable? \n",
    "Ans : '''Characteristics of Tuples\n",
    "They are indexed.\n",
    "Tuples are ordered.\n",
    "These are immutable.\n",
    "They can contain duplicate items.\n",
    "A tuple is a sequence of values much like a list. The values stored in a tuple can be any type, and they are indexed by integers. The important difference is that tuples are immutable'''\n",
    "\n",
    "Tuples have the given characteristics:\n",
    "•\tThey are indexed\n",
    "•\tTuples are ordered\n",
    "•\tThese are immutable\n",
    "•\tThey can contain duplicate items\n",
    "\n"
   ]
  },
  {
   "cell_type": "markdown",
   "id": "829f578c-a9f5-484a-b392-e723fa6028eb",
   "metadata": {},
   "source": [
    "### Q2. What are the two tuple methods in python? Give an example of each method. \n",
    "Give a reason why  tuples have only two in-built methods as compared to Lists. "
   ]
  },
  {
   "cell_type": "markdown",
   "id": "e8ffc3a9-3eeb-40be-bf5d-b406413feb14",
   "metadata": {},
   "source": [
    "### There are only two tuple methods count() and index() that a tuple object can call.\n",
    "1)\tcount()\tReturns the number of times a specified value occurs in a tuple\n",
    "2)\tindex()\tSearches the tuple for a specified value and returns the position of where it was found\n"
   ]
  },
  {
   "cell_type": "code",
   "execution_count": null,
   "id": "f9e0f906-d041-4c31-a047-8d06f3b24c40",
   "metadata": {},
   "outputs": [],
   "source": []
  },
  {
   "cell_type": "code",
   "execution_count": null,
   "id": "f16ad7cd-8083-4f99-b379-7f81c5b0c017",
   "metadata": {},
   "outputs": [],
   "source": []
  },
  {
   "cell_type": "markdown",
   "id": "c7439e6f-f99e-4f45-bcbf-fb4cc90891b7",
   "metadata": {},
   "source": []
  },
  {
   "cell_type": "markdown",
   "id": "27adfcd5-5905-490f-921f-a0df315da17e",
   "metadata": {},
   "source": [
    "### Q3.  Which collection datatypes in python do not allow duplicate items? Write a code using a set to remove  duplicates from the given list. \n",
    "List = [1, 1, 1, 2, 1, 3, 1, 4, 2, 1, 2, 2, 2, 3, 2, 4, 3, 1, 3, 2, 3, 3, 3, 4, 4, 1, 4, 2, 4, 3, 4, 4] \n"
   ]
  },
  {
   "cell_type": "code",
   "execution_count": 16,
   "id": "937ae979-e997-44b7-8ff3-aece949a1b37",
   "metadata": {},
   "outputs": [
    {
     "name": "stdout",
     "output_type": "stream",
     "text": [
      "{1, 2, 3, 4}\n"
     ]
    }
   ],
   "source": [
    " #Set is a collection which is unordered and unindexed. No duplicate members\n",
    "List = [1, 1, 1, 2, 1, 3, 1, 4, 2, 1, 2, 2, 2, 3, 2, 4, 3, 1, 3, 2, 3, 3, 3, 4, 4, 1, 4, 2, 4, 3, 4, 4]\n",
    "Remove_duplicate = set(List)\n",
    "print(Remove_duplicate)"
   ]
  },
  {
   "cell_type": "code",
   "execution_count": null,
   "id": "f7bb5283-869b-45f5-8385-aa372ff7ade7",
   "metadata": {},
   "outputs": [],
   "source": []
  },
  {
   "cell_type": "markdown",
   "id": "63ea6615-b035-4f1c-9395-63af59c078c9",
   "metadata": {},
   "source": [
    "### Q4. Explain the difference between the union() and update() methods for a set. Give an example of  each method. "
   ]
  },
  {
   "cell_type": "markdown",
   "id": "2a313f4c-8973-41fc-a3b4-703eda493e4f",
   "metadata": {},
   "source": [
    "* The union() method returns a new set that contains all the unique elements from all the sets that are being combined. The original sets remain unchanged. The syntax for the union() method is as follows:\n",
    "* Example : \n",
    "\n",
    "set1 = {1, 2, 3}\n",
    "set2 = {3, 4, 5}\n",
    "set3 = set1.union(set2)\n",
    "print(set3) # Output: {1, 2, 3, 4, 5}\n",
    "\n",
    "In this example, set3 contains all the elements from set1 and set2 without duplicates.\n",
    "\n",
    "* The update() method, on the other hand, modifies the set that it is called on by adding all the unique elements from the other sets to it. The syntax for the update() method is as follows:\n",
    "\n",
    "Example : \n",
    "\n",
    "set1 = {1, 2, 3}\n",
    "set2 = {3, 4, 5}\n",
    "set1.update(set2)\n",
    "print(set1) # Output: {1, 2, 3, 4, 5}\n",
    "\n",
    "In this example, set1 is modified to contain all the elements from set1 and set2 without duplicates.\n",
    "the main difference between union() and update() is that union() returns a new set, while update() modifies the set that it is called on.\n"
   ]
  },
  {
   "cell_type": "markdown",
   "id": "6e4f6578-7e11-4d25-b26b-e9b0eca4e135",
   "metadata": {},
   "source": [
    "### Q5. What is a dictionary? Give an example. Also, state whether a dictionary is ordered or unordered. "
   ]
  },
  {
   "cell_type": "markdown",
   "id": "65b2a73a-3ebd-4245-9c21-84fe47bf3a9f",
   "metadata": {},
   "source": [
    "a dictionary is a data structure that stores data in key-value pairs. Each key is unique, and the corresponding value can be any type of data, such as a string, number, list, or even another dictionary. Dictionaries are also sometimes referred to as \"hash tables\" or \"associative arrays\" in other programming languages.\n",
    "A dictionary is defined using curly braces {} and keys are separated from their corresponding values by a colon :. For example, the following is an example of a dictionary that stores the names and ages of three people:\n",
    "\n",
    "Example :\n",
    "person_dict = {'John': 25, 'Jane': 32, 'Bob': 45}\n",
    "\n",
    "In this dictionary, 'John', 'Jane', and 'Bob' are the keys, and their corresponding values are 25, 32, and 45 respectively.\n",
    "One important thing to note about dictionaries in Python is that they are unordered. This means that the keys and values in a dictionary are not stored in any particular order. Therefore, if you print the dictionary, the order of the keys may be different from the order in which they were originally defined.\n"
   ]
  },
  {
   "cell_type": "markdown",
   "id": "edbad83d-d973-4705-a092-3cb6a79aaf86",
   "metadata": {},
   "source": [
    "### Q6. Can we create a nested dictionary? If so, please give an example by creating a simple one-level  nested dictionary. \n"
   ]
  },
  {
   "cell_type": "markdown",
   "id": "160569fd-ef10-44b7-a49a-6c0bf05367ff",
   "metadata": {},
   "source": [
    "-\tYes, we can create a nested dictionary in Python.\n",
    "-\tA nested dictionary is a dictionary within a dictionary. In other words, the value of a key in a dictionary can be another dictionary.\n",
    "-\tHere's an example of a simple one-level nested dictionary:\n",
    "Example :\n",
    "\n",
    "person_dict = {'John': {'age': 25, 'gender': 'Male'}, 'Jane': {'age': 32, 'gender': 'Female'}, 'Bob': {'age': 45, 'gender': 'Male'}} \n",
    "\n",
    "- In this example, the keys 'John', 'Jane', and 'Bob' are the top-level keys of the dictionary, and their corresponding values are themselves dictionaries that contain the 'age' and 'gender' keys.\n",
    "- To access the values within the nested dictionary, we can use multiple square brackets [][] to index the keys at each level. For example, to access the age of John, we would use the following code:\n",
    "\n",
    "john_age = person_dict['John']['age'] print(john_age)\n",
    "\n",
    "* Output: 25 \n",
    "\n",
    "In this code, person_dict['John'] returns the nested dictionary that contains the 'age' and 'gender' keys for John, and person_dict['John']['age'] returns the value associated with the 'age' key within the nested dictionary.\n"
   ]
  },
  {
   "cell_type": "markdown",
   "id": "2cfff00a-9358-417f-bd2e-2d0f49350de6",
   "metadata": {},
   "source": [
    "### Q7. Using setdefault() method, create key named topics in the given dictionary and also add the value of  the key as this list ['Python', 'Machine Learning’, 'Deep Learning'] \n",
    "dict1 = {'language' : 'Python', 'course': 'Data Science Masters'} "
   ]
  },
  {
   "cell_type": "markdown",
   "id": "918972df-7ffc-4fb8-a533-64070e8823e2",
   "metadata": {},
   "source": [
    "create a new key-value pair in a dictionary if the key does not already exist. If the key already exists, setdefault() returns the value associated with the key. The syntax for using the setdefault() method is as follows:\n",
    "\n",
    "Example :\n",
    "\n",
    "dict.setdefault(key, default_value) \n",
    "\n",
    "- Where key is the key that we want to add to the dictionary, and default_value is the value that we want to assign to the key if it does not already exist.\n",
    "\n",
    "Here's an example of how we can use setdefault() to create a new key named topics in the dict1 dictionary and assign the value ['Python', 'Machine Learning', 'Deep Learning'] to it:\n",
    "\n",
    "dict1 = {'language': 'Python', 'course': 'Data Science Masters'} dict1.setdefault('topics', ['Python', 'Machine Learning', 'Deep Learning']) print(dict1) \n",
    "\n",
    "Output:\n",
    "{'language': 'Python', 'course': 'Data Science Masters', 'topics': ['Python', 'Machine Learning', 'Deep Learning']} \n",
    "\n",
    "- In this example, since the key 'topics' does not already exist in the dict1 dictionary, setdefault() adds it to the dictionary with the value ['Python', 'Machine Learning', 'Deep Learning']. The updated dictionary is then printed using the print() function.\n"
   ]
  },
  {
   "cell_type": "markdown",
   "id": "b880560d-e786-490f-b85d-cd03031aa5d0",
   "metadata": {},
   "source": [
    "### Q8. What are the three view objects in dictionaries? Use the three in-built methods in python to display  these three view objects for the given dictionary. \n",
    "dict1 = {'Sport': 'Cricket' , 'Teams': ['India', 'Australia', 'England', 'South Africa', 'Sri Lanka', 'New Zealand']}\n"
   ]
  },
  {
   "cell_type": "markdown",
   "id": "3fc4cb29-fba6-4385-a548-ddb4526c1930",
   "metadata": {},
   "source": [
    "-\tdictionaries have three view objects that provide a dynamic view of the dictionary's keys, values, or key-value pairs. These view objects are as follows:\n",
    "-\t1. dict.keys() - This method returns a view object that contains the keys of the dictionary.\n",
    "-\t2. dict.values() - This method returns a view object that contains the values of the dictionary.\n",
    "-\t3. dict.items() - This method returns a view object that contains the key-value pairs of the dictionary as tuples.\n",
    "\n",
    "* Example: \n",
    "dict1 = {'Sport': 'Cricket', 'Teams': ['India', 'Australia', 'England', 'South Africa', 'Sri Lanka', 'New Zealand']}\n",
    "\n",
    " Display the view object for keys\n",
    "keys_view = dict1.keys()\n",
    "print('Keys view:', keys_view)\n",
    "\n",
    " Display the view object for values\n",
    "values_view = dict1.values()\n",
    "print('Values view:', values_view)\n",
    "\n",
    " Display the view object for items\n",
    "items_view = dict1.items()\n",
    "print('Items view:', items_view)\n",
    "\n",
    "* Output:\n",
    "dict_keys(['Sport', 'Teams'])\n",
    "dict_values(['Cricket', ['India', 'Australia', 'England', 'South Africa', 'Sri Lanka', 'New Zealand']])\n",
    "dict_items([('Sport', 'Cricket'), ('Teams', ['India', 'Australia', 'England', 'South Africa', 'Sri Lanka', 'New Zealand'])])\n",
    "\n",
    ": first define the dict1 dictionary. We then use the dict.keys(), dict.values(), and dict.items() methods to create view objects for the keys, values, and key-value pairs of the dictionary, respectively. Finally, we print each of the view objects using the print() function.\n"
   ]
  },
  {
   "cell_type": "code",
   "execution_count": null,
   "id": "8a7edbde-7f7f-4354-82be-ab36c589390e",
   "metadata": {},
   "outputs": [],
   "source": []
  }
 ],
 "metadata": {
  "kernelspec": {
   "display_name": "Python 3 (ipykernel)",
   "language": "python",
   "name": "python3"
  },
  "language_info": {
   "codemirror_mode": {
    "name": "ipython",
    "version": 3
   },
   "file_extension": ".py",
   "mimetype": "text/x-python",
   "name": "python",
   "nbconvert_exporter": "python",
   "pygments_lexer": "ipython3",
   "version": "3.10.8"
  }
 },
 "nbformat": 4,
 "nbformat_minor": 5
}
