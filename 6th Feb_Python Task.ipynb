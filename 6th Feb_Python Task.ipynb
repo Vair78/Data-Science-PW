{
 "cells": [
  {
   "cell_type": "code",
   "execution_count": 1,
   "id": "a4780b8f-63c2-4350-afc3-f19bba67d40d",
   "metadata": {},
   "outputs": [],
   "source": [
    "## Q1.What is the output of the following Python code?"
   ]
  },
  {
   "cell_type": "code",
   "execution_count": 2,
   "id": "d2f56e07-cbdf-4a3b-b66e-1520878a95f4",
   "metadata": {},
   "outputs": [
    {
     "name": "stdout",
     "output_type": "stream",
     "text": [
      "30\n"
     ]
    }
   ],
   "source": [
    "x = 10\n",
    "y = 20\n",
    "if x == 10:\n",
    "    x = x+ y\n",
    "    print(x)"
   ]
  },
  {
   "cell_type": "code",
   "execution_count": 3,
   "id": "6657b5c3-81a6-4e82-86a2-2707d11a5871",
   "metadata": {},
   "outputs": [],
   "source": [
    "##Q 2.What will be the output of the following code?"
   ]
  },
  {
   "cell_type": "code",
   "execution_count": 4,
   "id": "c9046246-021e-46de-8bb0-3cbd9ed33049",
   "metadata": {},
   "outputs": [
    {
     "name": "stdout",
     "output_type": "stream",
     "text": [
      "100\n"
     ]
    }
   ],
   "source": [
    "def print_square(x):\n",
    "    print(x*x)\n",
    "print_square(10)"
   ]
  },
  {
   "cell_type": "code",
   "execution_count": 5,
   "id": "511a012a-28a6-418d-9b05-4f7bf9400305",
   "metadata": {},
   "outputs": [],
   "source": [
    "##Q 3.What will be the output of the following code?"
   ]
  },
  {
   "cell_type": "code",
   "execution_count": 9,
   "id": "57675d1e-3825-41d3-8c1a-346d1e1e9424",
   "metadata": {},
   "outputs": [
    {
     "name": "stdout",
     "output_type": "stream",
     "text": [
      "red\n"
     ]
    }
   ],
   "source": [
    "class Car:\n",
    "    def __init__(self,color,model):\n",
    "        self.color = color\n",
    "        self.model = model\n",
    "        \n",
    "    def get_color(self):\n",
    "        return self.color\n",
    "\n",
    "my_car = Car(\"red\",\"sedan\")\n",
    "print(my_car.get_color())"
   ]
  },
  {
   "cell_type": "code",
   "execution_count": 10,
   "id": "56c428df-24ef-4034-8dd4-3a3202d59a14",
   "metadata": {},
   "outputs": [],
   "source": [
    "##Q 4.What will be the output of the following code?"
   ]
  },
  {
   "cell_type": "code",
   "execution_count": 11,
   "id": "2e758e25-5790-418c-92b4-507e616db28a",
   "metadata": {},
   "outputs": [
    {
     "name": "stdout",
     "output_type": "stream",
     "text": [
      "{'a': 1, 'b': 2, 'c': 3}\n"
     ]
    }
   ],
   "source": [
    "my_dict ={\"a\":1, \"b\":2, \"c\":3}\n",
    "\n",
    "my_set = set(my_dict.keys())\n",
    "\n",
    "my_set.add(\"d\")\n",
    "print(my_dict)"
   ]
  },
  {
   "cell_type": "code",
   "execution_count": 12,
   "id": "89328877-3c30-4b2f-832b-c766a73da57f",
   "metadata": {},
   "outputs": [],
   "source": [
    " ## Q5.What is the output of the following code?\n"
   ]
  },
  {
   "cell_type": "code",
   "execution_count": 17,
   "id": "11596c56-5591-4576-9d6f-e10e2c19c6fd",
   "metadata": {},
   "outputs": [
    {
     "name": "stdout",
     "output_type": "stream",
     "text": [
      "x is less than 20\n"
     ]
    }
   ],
   "source": [
    "x = 10\n",
    "if x < 20 :\n",
    "    print(\"x is less than 20\")\n",
    "else:\n",
    "    print(\"x is greater than or equal ot 20\")"
   ]
  },
  {
   "cell_type": "code",
   "execution_count": 18,
   "id": "e99910d4-16ab-4b36-99e0-728dbc6c3a7e",
   "metadata": {},
   "outputs": [],
   "source": [
    "## 8.What is the output of the following code?"
   ]
  },
  {
   "cell_type": "code",
   "execution_count": 19,
   "id": "2e01d97f-3459-4b0d-b092-6d417ad11be8",
   "metadata": {},
   "outputs": [
    {
     "name": "stdout",
     "output_type": "stream",
     "text": [
      "1\n",
      "2\n",
      "3\n",
      "4\n"
     ]
    }
   ],
   "source": [
    "i = 1 \n",
    "while i < 5 :\n",
    "    print(i)\n",
    "    i= i+1"
   ]
  },
  {
   "cell_type": "code",
   "execution_count": null,
   "id": "22e7f1bc-0632-4181-adde-9262bc80b3ee",
   "metadata": {},
   "outputs": [],
   "source": []
  }
 ],
 "metadata": {
  "kernelspec": {
   "display_name": "Python 3 (ipykernel)",
   "language": "python",
   "name": "python3"
  },
  "language_info": {
   "codemirror_mode": {
    "name": "ipython",
    "version": 3
   },
   "file_extension": ".py",
   "mimetype": "text/x-python",
   "name": "python",
   "nbconvert_exporter": "python",
   "pygments_lexer": "ipython3",
   "version": "3.10.8"
  }
 },
 "nbformat": 4,
 "nbformat_minor": 5
}
