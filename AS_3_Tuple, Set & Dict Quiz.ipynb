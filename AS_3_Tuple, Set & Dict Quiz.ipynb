{
 "cells": [
  {
   "cell_type": "code",
   "execution_count": 2,
   "id": "963d3bc6-42a5-4cc7-8b7d-a7fe575fe079",
   "metadata": {},
   "outputs": [
    {
     "name": "stdout",
     "output_type": "stream",
     "text": [
      "400\n",
      "(200, 300, 400)\n"
     ]
    }
   ],
   "source": [
    "# Q 1.What is the output of the following code\n",
    "atuple=(100,200,300,400,500)\n",
    "print(atuple[-2])\n",
    "print(atuple[-4:-1])"
   ]
  },
  {
   "cell_type": "code",
   "execution_count": 4,
   "id": "5ec934cd-2062-43f8-abda-6cf6d9ff68c0",
   "metadata": {},
   "outputs": [
    {
     "name": "stdout",
     "output_type": "stream",
     "text": [
      "<class 'str'>\n"
     ]
    }
   ],
   "source": [
    "#Q 2.What is the type of the following variable\n",
    "\n",
    "atuple =(\"Orange\")\n",
    "print(type(atuple))"
   ]
  },
  {
   "cell_type": "code",
   "execution_count": 5,
   "id": "0537c67a-d835-4543-b250-86058e3406de",
   "metadata": {},
   "outputs": [
    {
     "name": "stdout",
     "output_type": "stream",
     "text": [
      "(100, 100)\n"
     ]
    }
   ],
   "source": [
    "# Q3.What is the output of the following tuple operation\n",
    "\n",
    "atuple=(100,)\n",
    "print(atuple *2 )"
   ]
  },
  {
   "cell_type": "code",
   "execution_count": 8,
   "id": "3c7c2724-d371-4395-b705-03111d2a6291",
   "metadata": {},
   "outputs": [
    {
     "name": "stdout",
     "output_type": "stream",
     "text": [
      "None\n"
     ]
    }
   ],
   "source": [
    "# Q4.What is the output of the following dictionary operation\n",
    "\n",
    "dict1={\"name\":\"mike\",\"salary\":8000}\n",
    "temp =dict1.get(\"age\")\n",
    "print(temp)"
   ]
  },
  {
   "cell_type": "code",
   "execution_count": 10,
   "id": "3830fd54-a5aa-4405-ae06-8942e97e5ceb",
   "metadata": {},
   "outputs": [
    {
     "name": "stdout",
     "output_type": "stream",
     "text": [
      "True\n"
     ]
    }
   ],
   "source": [
    "#Q5.What is the output of the following code\n",
    "\n",
    "dict1={\"key1\":1,\"key2\":2}\n",
    "dict2={\"key2\":2,\"key1\":1}\n",
    "print(dict1 == dict2)"
   ]
  },
  {
   "cell_type": "code",
   "execution_count": 14,
   "id": "ee0d1b7a-bb5b-4b8b-bab0-3e5f61578b39",
   "metadata": {},
   "outputs": [],
   "source": [
    "# Q6.Select all the correct ways to copy two sets\n",
    "\n",
    "set1={\"key1\":1,\"key2\":2}\n",
    "\n",
    "set2=set1.copy()"
   ]
  },
  {
   "cell_type": "code",
   "execution_count": 15,
   "id": "9196364c-7fd3-4301-8cf6-aebfa6379ab0",
   "metadata": {},
   "outputs": [
    {
     "data": {
      "text/plain": [
       "{'key1': 1, 'key2': 2}"
      ]
     },
     "execution_count": 15,
     "metadata": {},
     "output_type": "execute_result"
    }
   ],
   "source": [
    "set2"
   ]
  },
  {
   "cell_type": "code",
   "execution_count": 16,
   "id": "cc78e014-ec1f-4fba-b696-e1d054de68ce",
   "metadata": {},
   "outputs": [],
   "source": [
    "set2=set(set1)"
   ]
  },
  {
   "cell_type": "code",
   "execution_count": 17,
   "id": "f9859748-8341-42bd-8618-af5b4fc9ef30",
   "metadata": {},
   "outputs": [
    {
     "data": {
      "text/plain": [
       "{'key1', 'key2'}"
      ]
     },
     "execution_count": 17,
     "metadata": {},
     "output_type": "execute_result"
    }
   ],
   "source": [
    "set2"
   ]
  },
  {
   "cell_type": "code",
   "execution_count": 19,
   "id": "562bf54c-2db1-4e5e-acfa-8bdc25d3548d",
   "metadata": {},
   "outputs": [
    {
     "name": "stdout",
     "output_type": "stream",
     "text": [
      "{'blue', 'Pink'}\n"
     ]
    }
   ],
   "source": [
    "#Q 7.What is the output of the following set operation\n",
    "\n",
    "set1= {\"Yellow\",\"Orange\",\"Black\"}\n",
    "set2={\"Orange\",\"blue\",\"Pink\"}\n",
    "set3= set2.difference(set1)\n",
    "print(set3)"
   ]
  },
  {
   "cell_type": "code",
   "execution_count": null,
   "id": "557ae5ac-3e2d-4755-a1f4-e172596c10d7",
   "metadata": {},
   "outputs": [],
   "source": [
    "#Q8.Select all which is true for Python set\n"
   ]
  }
 ],
 "metadata": {
  "kernelspec": {
   "display_name": "Python 3 (ipykernel)",
   "language": "python",
   "name": "python3"
  },
  "language_info": {
   "codemirror_mode": {
    "name": "ipython",
    "version": 3
   },
   "file_extension": ".py",
   "mimetype": "text/x-python",
   "name": "python",
   "nbconvert_exporter": "python",
   "pygments_lexer": "ipython3",
   "version": "3.10.8"
  }
 },
 "nbformat": 4,
 "nbformat_minor": 5
}
